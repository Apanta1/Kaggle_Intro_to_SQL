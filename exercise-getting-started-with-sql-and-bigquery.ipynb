{
 "cells": [
  {
   "cell_type": "markdown",
   "id": "910e0edc",
   "metadata": {
    "papermill": {
     "duration": 0.005922,
     "end_time": "2023-10-22T23:37:33.134433",
     "exception": false,
     "start_time": "2023-10-22T23:37:33.128511",
     "status": "completed"
    },
    "tags": []
   },
   "source": [
    "**This notebook is an exercise in the [SQL](https://www.kaggle.com/learn/intro-to-sql) course.  You can reference the tutorial at [this link](https://www.kaggle.com/dansbecker/getting-started-with-sql-and-bigquery).**\n",
    "\n",
    "---\n"
   ]
  },
  {
   "cell_type": "markdown",
   "id": "70d450b5",
   "metadata": {
    "papermill": {
     "duration": 0.005117,
     "end_time": "2023-10-22T23:37:33.145065",
     "exception": false,
     "start_time": "2023-10-22T23:37:33.139948",
     "status": "completed"
    },
    "tags": []
   },
   "source": [
    "# Introduction\n",
    "\n",
    "The first test of your new data exploration skills uses data describing crime in the city of Chicago.\n",
    "\n",
    "Before you get started, run the following cell. It sets up the automated feedback system to review your answers."
   ]
  },
  {
   "cell_type": "markdown",
   "id": "5c0a6007",
   "metadata": {
    "papermill": {
     "duration": 0.004918,
     "end_time": "2023-10-22T23:37:33.155219",
     "exception": false,
     "start_time": "2023-10-22T23:37:33.150301",
     "status": "completed"
    },
    "tags": []
   },
   "source": []
  },
  {
   "cell_type": "markdown",
   "id": "f91da446",
   "metadata": {
    "papermill": {
     "duration": 0.005069,
     "end_time": "2023-10-22T23:37:33.165759",
     "exception": false,
     "start_time": "2023-10-22T23:37:33.160690",
     "status": "completed"
    },
    "tags": []
   },
   "source": []
  },
  {
   "cell_type": "code",
   "execution_count": 1,
   "id": "4bd27afc",
   "metadata": {
    "execution": {
     "iopub.execute_input": "2023-10-22T23:37:33.178427Z",
     "iopub.status.busy": "2023-10-22T23:37:33.177747Z",
     "iopub.status.idle": "2023-10-22T23:37:38.076952Z",
     "shell.execute_reply": "2023-10-22T23:37:38.075502Z"
    },
    "papermill": {
     "duration": 4.908539,
     "end_time": "2023-10-22T23:37:38.079499",
     "exception": false,
     "start_time": "2023-10-22T23:37:33.170960",
     "status": "completed"
    },
    "tags": []
   },
   "outputs": [
    {
     "name": "stdout",
     "output_type": "stream",
     "text": [
      "Using Kaggle's public dataset BigQuery integration.\n",
      "Setup Complete\n"
     ]
    }
   ],
   "source": [
    "# Set up feedack system\n",
    "from learntools.core import binder\n",
    "binder.bind(globals())\n",
    "from learntools.sql.ex1 import *\n",
    "print(\"Setup Complete\")"
   ]
  },
  {
   "cell_type": "markdown",
   "id": "66e8e49c",
   "metadata": {
    "papermill": {
     "duration": 0.005247,
     "end_time": "2023-10-22T23:37:38.090762",
     "exception": false,
     "start_time": "2023-10-22T23:37:38.085515",
     "status": "completed"
    },
    "tags": []
   },
   "source": []
  },
  {
   "cell_type": "code",
   "execution_count": null,
   "id": "cdd4938a",
   "metadata": {
    "papermill": {
     "duration": 0.004889,
     "end_time": "2023-10-22T23:37:38.100794",
     "exception": false,
     "start_time": "2023-10-22T23:37:38.095905",
     "status": "completed"
    },
    "tags": []
   },
   "outputs": [],
   "source": []
  },
  {
   "cell_type": "code",
   "execution_count": null,
   "id": "32b0cc66",
   "metadata": {
    "papermill": {
     "duration": 0.004961,
     "end_time": "2023-10-22T23:37:38.110966",
     "exception": false,
     "start_time": "2023-10-22T23:37:38.106005",
     "status": "completed"
    },
    "tags": []
   },
   "outputs": [],
   "source": []
  },
  {
   "cell_type": "code",
   "execution_count": null,
   "id": "103043aa",
   "metadata": {
    "papermill": {
     "duration": 0.005132,
     "end_time": "2023-10-22T23:37:38.121330",
     "exception": false,
     "start_time": "2023-10-22T23:37:38.116198",
     "status": "completed"
    },
    "tags": []
   },
   "outputs": [],
   "source": []
  },
  {
   "cell_type": "code",
   "execution_count": null,
   "id": "b4dd0a0a",
   "metadata": {
    "papermill": {
     "duration": 0.004929,
     "end_time": "2023-10-22T23:37:38.131522",
     "exception": false,
     "start_time": "2023-10-22T23:37:38.126593",
     "status": "completed"
    },
    "tags": []
   },
   "outputs": [],
   "source": []
  },
  {
   "cell_type": "markdown",
   "id": "18d3182a",
   "metadata": {
    "papermill": {
     "duration": 0.005,
     "end_time": "2023-10-22T23:37:38.141819",
     "exception": false,
     "start_time": "2023-10-22T23:37:38.136819",
     "status": "completed"
    },
    "tags": []
   },
   "source": [
    "Use the next code cell to fetch the dataset."
   ]
  },
  {
   "cell_type": "code",
   "execution_count": 2,
   "id": "4d830f99",
   "metadata": {
    "execution": {
     "iopub.execute_input": "2023-10-22T23:37:38.154771Z",
     "iopub.status.busy": "2023-10-22T23:37:38.153988Z",
     "iopub.status.idle": "2023-10-22T23:37:38.490102Z",
     "shell.execute_reply": "2023-10-22T23:37:38.489137Z"
    },
    "papermill": {
     "duration": 0.345032,
     "end_time": "2023-10-22T23:37:38.492327",
     "exception": false,
     "start_time": "2023-10-22T23:37:38.147295",
     "status": "completed"
    },
    "tags": []
   },
   "outputs": [
    {
     "name": "stdout",
     "output_type": "stream",
     "text": [
      "Using Kaggle's public dataset BigQuery integration.\n"
     ]
    }
   ],
   "source": [
    "from google.cloud import bigquery\n",
    "\n",
    "# Create a \"Client\" object\n",
    "client = bigquery.Client()\n",
    "\n",
    "# Construct a reference to the \"chicago_crime\" dataset\n",
    "dataset_ref = client.dataset(\"chicago_crime\", project=\"bigquery-public-data\")\n",
    "\n",
    "# API request - fetch the dataset\n",
    "dataset = client.get_dataset(dataset_ref)"
   ]
  },
  {
   "cell_type": "markdown",
   "id": "2a303573",
   "metadata": {
    "papermill": {
     "duration": 0.005045,
     "end_time": "2023-10-22T23:37:38.503050",
     "exception": false,
     "start_time": "2023-10-22T23:37:38.498005",
     "status": "completed"
    },
    "tags": []
   },
   "source": [
    "# Exercises\n",
    "\n",
    "### 1) Count tables in the dataset\n",
    "\n",
    "How many tables are in the Chicago Crime dataset?"
   ]
  },
  {
   "cell_type": "code",
   "execution_count": 3,
   "id": "3a2609cc",
   "metadata": {
    "execution": {
     "iopub.execute_input": "2023-10-22T23:37:38.515354Z",
     "iopub.status.busy": "2023-10-22T23:37:38.514751Z",
     "iopub.status.idle": "2023-10-22T23:37:38.784695Z",
     "shell.execute_reply": "2023-10-22T23:37:38.783406Z"
    },
    "papermill": {
     "duration": 0.279529,
     "end_time": "2023-10-22T23:37:38.787733",
     "exception": false,
     "start_time": "2023-10-22T23:37:38.508204",
     "status": "completed"
    },
    "tags": []
   },
   "outputs": [
    {
     "name": "stdout",
     "output_type": "stream",
     "text": [
      "1\n"
     ]
    }
   ],
   "source": [
    "tables = list(client.list_tables(dataset))\n",
    "i = 0\n",
    "for table in tables:\n",
    "    i = i + 1\n",
    "print(i)# Write the code you need here to figure out the answer"
   ]
  },
  {
   "cell_type": "code",
   "execution_count": 4,
   "id": "0bd60fc0",
   "metadata": {
    "execution": {
     "iopub.execute_input": "2023-10-22T23:37:38.801655Z",
     "iopub.status.busy": "2023-10-22T23:37:38.801279Z",
     "iopub.status.idle": "2023-10-22T23:37:38.812316Z",
     "shell.execute_reply": "2023-10-22T23:37:38.811313Z"
    },
    "papermill": {
     "duration": 0.020149,
     "end_time": "2023-10-22T23:37:38.814634",
     "exception": false,
     "start_time": "2023-10-22T23:37:38.794485",
     "status": "completed"
    },
    "tags": []
   },
   "outputs": [
    {
     "data": {
      "application/javascript": [
       "parent.postMessage({\"jupyterEvent\": \"custom.exercise_interaction\", \"data\": {\"outcomeType\": 1, \"valueTowardsCompletion\": 0.3333333333333333, \"interactionType\": 1, \"questionType\": 1, \"questionId\": \"1_CountTables\", \"learnToolsVersion\": \"0.3.4\", \"failureMessage\": \"\", \"exceptionClass\": \"\", \"trace\": \"\"}}, \"*\")"
      ],
      "text/plain": [
       "<IPython.core.display.Javascript object>"
      ]
     },
     "metadata": {},
     "output_type": "display_data"
    },
    {
     "data": {
      "text/markdown": [
       "<span style=\"color:#33cc33\">Correct</span>"
      ],
      "text/plain": [
       "Correct"
      ]
     },
     "metadata": {},
     "output_type": "display_data"
    }
   ],
   "source": [
    "num_tables = 1  # Store the answer as num_tables and then run this cell\n",
    "\n",
    "# Check your answer\n",
    "q_1.check()"
   ]
  },
  {
   "cell_type": "markdown",
   "id": "12cd28c8",
   "metadata": {
    "papermill": {
     "duration": 0.005307,
     "end_time": "2023-10-22T23:37:38.825769",
     "exception": false,
     "start_time": "2023-10-22T23:37:38.820462",
     "status": "completed"
    },
    "tags": []
   },
   "source": [
    "For a hint or the solution, uncomment the appropriate line below."
   ]
  },
  {
   "cell_type": "code",
   "execution_count": 5,
   "id": "08d78fe6",
   "metadata": {
    "execution": {
     "iopub.execute_input": "2023-10-22T23:37:38.838872Z",
     "iopub.status.busy": "2023-10-22T23:37:38.837951Z",
     "iopub.status.idle": "2023-10-22T23:37:38.841606Z",
     "shell.execute_reply": "2023-10-22T23:37:38.841014Z"
    },
    "papermill": {
     "duration": 0.01257,
     "end_time": "2023-10-22T23:37:38.843861",
     "exception": false,
     "start_time": "2023-10-22T23:37:38.831291",
     "status": "completed"
    },
    "tags": []
   },
   "outputs": [],
   "source": [
    "#q_1.hint()\n",
    "#q_1.solution()"
   ]
  },
  {
   "cell_type": "markdown",
   "id": "59f441a7",
   "metadata": {
    "papermill": {
     "duration": 0.005656,
     "end_time": "2023-10-22T23:37:38.855591",
     "exception": false,
     "start_time": "2023-10-22T23:37:38.849935",
     "status": "completed"
    },
    "tags": []
   },
   "source": [
    "### 2) Explore the table schema\n",
    "\n",
    "How many columns in the `crime` table have `TIMESTAMP` data?"
   ]
  },
  {
   "cell_type": "code",
   "execution_count": 6,
   "id": "a943375c",
   "metadata": {
    "execution": {
     "iopub.execute_input": "2023-10-22T23:37:38.869820Z",
     "iopub.status.busy": "2023-10-22T23:37:38.868760Z",
     "iopub.status.idle": "2023-10-22T23:37:39.226046Z",
     "shell.execute_reply": "2023-10-22T23:37:39.224439Z"
    },
    "papermill": {
     "duration": 0.367725,
     "end_time": "2023-10-22T23:37:39.229528",
     "exception": false,
     "start_time": "2023-10-22T23:37:38.861803",
     "status": "completed"
    },
    "tags": []
   },
   "outputs": [
    {
     "name": "stdout",
     "output_type": "stream",
     "text": [
      "[SchemaField('unique_key', 'INTEGER', 'REQUIRED', None, (), None), SchemaField('case_number', 'STRING', 'NULLABLE', None, (), None), SchemaField('date', 'TIMESTAMP', 'NULLABLE', None, (), None), SchemaField('block', 'STRING', 'NULLABLE', None, (), None), SchemaField('iucr', 'STRING', 'NULLABLE', None, (), None), SchemaField('primary_type', 'STRING', 'NULLABLE', None, (), None), SchemaField('description', 'STRING', 'NULLABLE', None, (), None), SchemaField('location_description', 'STRING', 'NULLABLE', None, (), None), SchemaField('arrest', 'BOOLEAN', 'NULLABLE', None, (), None), SchemaField('domestic', 'BOOLEAN', 'NULLABLE', None, (), None), SchemaField('beat', 'INTEGER', 'NULLABLE', None, (), None), SchemaField('district', 'INTEGER', 'NULLABLE', None, (), None), SchemaField('ward', 'INTEGER', 'NULLABLE', None, (), None), SchemaField('community_area', 'INTEGER', 'NULLABLE', None, (), None), SchemaField('fbi_code', 'STRING', 'NULLABLE', None, (), None), SchemaField('x_coordinate', 'FLOAT', 'NULLABLE', None, (), None), SchemaField('y_coordinate', 'FLOAT', 'NULLABLE', None, (), None), SchemaField('year', 'INTEGER', 'NULLABLE', None, (), None), SchemaField('updated_on', 'TIMESTAMP', 'NULLABLE', None, (), None), SchemaField('latitude', 'FLOAT', 'NULLABLE', None, (), None), SchemaField('longitude', 'FLOAT', 'NULLABLE', None, (), None), SchemaField('location', 'STRING', 'NULLABLE', None, (), None)]\n"
     ]
    }
   ],
   "source": [
    "# Write the code to figure out the answer\n",
    "table_ref = dataset_ref.table(\"crime\")\n",
    "\n",
    "table = client.get_table(table_ref)\n",
    "print(table.schema)"
   ]
  },
  {
   "cell_type": "code",
   "execution_count": 7,
   "id": "c5d01f25",
   "metadata": {
    "execution": {
     "iopub.execute_input": "2023-10-22T23:37:39.242785Z",
     "iopub.status.busy": "2023-10-22T23:37:39.242466Z",
     "iopub.status.idle": "2023-10-22T23:37:39.249420Z",
     "shell.execute_reply": "2023-10-22T23:37:39.248692Z"
    },
    "papermill": {
     "duration": 0.015866,
     "end_time": "2023-10-22T23:37:39.251328",
     "exception": false,
     "start_time": "2023-10-22T23:37:39.235462",
     "status": "completed"
    },
    "tags": []
   },
   "outputs": [
    {
     "data": {
      "application/javascript": [
       "parent.postMessage({\"jupyterEvent\": \"custom.exercise_interaction\", \"data\": {\"outcomeType\": 1, \"valueTowardsCompletion\": 0.3333333333333333, \"interactionType\": 1, \"questionType\": 1, \"questionId\": \"2_CountTimestampFields\", \"learnToolsVersion\": \"0.3.4\", \"failureMessage\": \"\", \"exceptionClass\": \"\", \"trace\": \"\"}}, \"*\")"
      ],
      "text/plain": [
       "<IPython.core.display.Javascript object>"
      ]
     },
     "metadata": {},
     "output_type": "display_data"
    },
    {
     "data": {
      "text/markdown": [
       "<span style=\"color:#33cc33\">Correct</span>"
      ],
      "text/plain": [
       "Correct"
      ]
     },
     "metadata": {},
     "output_type": "display_data"
    }
   ],
   "source": [
    "num_timestamp_fields = 2 # Put your answer here\n",
    "\n",
    "# Check your answer\n",
    "q_2.check()"
   ]
  },
  {
   "cell_type": "markdown",
   "id": "6f169e45",
   "metadata": {
    "papermill": {
     "duration": 0.005802,
     "end_time": "2023-10-22T23:37:39.263429",
     "exception": false,
     "start_time": "2023-10-22T23:37:39.257627",
     "status": "completed"
    },
    "tags": []
   },
   "source": [
    "For a hint or the solution, uncomment the appropriate line below."
   ]
  },
  {
   "cell_type": "code",
   "execution_count": 8,
   "id": "4bda064e",
   "metadata": {
    "execution": {
     "iopub.execute_input": "2023-10-22T23:37:39.277325Z",
     "iopub.status.busy": "2023-10-22T23:37:39.276979Z",
     "iopub.status.idle": "2023-10-22T23:37:39.280158Z",
     "shell.execute_reply": "2023-10-22T23:37:39.279562Z"
    },
    "papermill": {
     "duration": 0.012227,
     "end_time": "2023-10-22T23:37:39.281754",
     "exception": false,
     "start_time": "2023-10-22T23:37:39.269527",
     "status": "completed"
    },
    "tags": []
   },
   "outputs": [],
   "source": [
    "#q_2.hint()\n",
    "#q_2.solution()"
   ]
  },
  {
   "cell_type": "markdown",
   "id": "fc322022",
   "metadata": {
    "papermill": {
     "duration": 0.005801,
     "end_time": "2023-10-22T23:37:39.293983",
     "exception": false,
     "start_time": "2023-10-22T23:37:39.288182",
     "status": "completed"
    },
    "tags": []
   },
   "source": [
    "### 3) Create a crime map\n",
    "\n",
    "If you wanted to create a map with a dot at the location of each crime, what are the names of the two fields you likely need to pull out of the `crime` table to plot the crimes on a map?"
   ]
  },
  {
   "cell_type": "code",
   "execution_count": 9,
   "id": "5c516f89",
   "metadata": {
    "execution": {
     "iopub.execute_input": "2023-10-22T23:37:39.307664Z",
     "iopub.status.busy": "2023-10-22T23:37:39.307312Z",
     "iopub.status.idle": "2023-10-22T23:37:39.311495Z",
     "shell.execute_reply": "2023-10-22T23:37:39.310506Z"
    },
    "papermill": {
     "duration": 0.01424,
     "end_time": "2023-10-22T23:37:39.314258",
     "exception": false,
     "start_time": "2023-10-22T23:37:39.300018",
     "status": "completed"
    },
    "tags": []
   },
   "outputs": [],
   "source": [
    "# Write the code here to explore the data so you can find the answer"
   ]
  },
  {
   "cell_type": "code",
   "execution_count": 10,
   "id": "d8529625",
   "metadata": {
    "execution": {
     "iopub.execute_input": "2023-10-22T23:37:39.328513Z",
     "iopub.status.busy": "2023-10-22T23:37:39.328131Z",
     "iopub.status.idle": "2023-10-22T23:37:39.336037Z",
     "shell.execute_reply": "2023-10-22T23:37:39.334979Z"
    },
    "papermill": {
     "duration": 0.01716,
     "end_time": "2023-10-22T23:37:39.337838",
     "exception": false,
     "start_time": "2023-10-22T23:37:39.320678",
     "status": "completed"
    },
    "tags": []
   },
   "outputs": [
    {
     "name": "stdout",
     "output_type": "stream",
     "text": [
      "`'latitude'` and `'longitude'` would be better and more standard than `'x_coordinate'` and `'y_coordinate'`, but this might work.\n"
     ]
    },
    {
     "data": {
      "application/javascript": [
       "parent.postMessage({\"jupyterEvent\": \"custom.exercise_interaction\", \"data\": {\"outcomeType\": 1, \"valueTowardsCompletion\": 0.3333333333333333, \"interactionType\": 1, \"questionType\": 2, \"questionId\": \"3_IdentifyFieldsForPlotting\", \"learnToolsVersion\": \"0.3.4\", \"failureMessage\": \"\", \"exceptionClass\": \"\", \"trace\": \"\"}}, \"*\")"
      ],
      "text/plain": [
       "<IPython.core.display.Javascript object>"
      ]
     },
     "metadata": {},
     "output_type": "display_data"
    },
    {
     "data": {
      "text/markdown": [
       "<span style=\"color:#33cc33\">Correct</span>"
      ],
      "text/plain": [
       "Correct"
      ]
     },
     "metadata": {},
     "output_type": "display_data"
    }
   ],
   "source": [
    "fields_for_plotting = ['x_coordinate', 'y_coordinate'] # Put your answers here\n",
    "\n",
    "# Check your answer\n",
    "q_3.check()"
   ]
  },
  {
   "cell_type": "markdown",
   "id": "f05db607",
   "metadata": {
    "papermill": {
     "duration": 0.006532,
     "end_time": "2023-10-22T23:37:39.350671",
     "exception": false,
     "start_time": "2023-10-22T23:37:39.344139",
     "status": "completed"
    },
    "tags": []
   },
   "source": [
    "For a hint or the solution, uncomment the appropriate line below."
   ]
  },
  {
   "cell_type": "code",
   "execution_count": 11,
   "id": "ed4d343f",
   "metadata": {
    "execution": {
     "iopub.execute_input": "2023-10-22T23:37:39.365316Z",
     "iopub.status.busy": "2023-10-22T23:37:39.364974Z",
     "iopub.status.idle": "2023-10-22T23:37:39.368884Z",
     "shell.execute_reply": "2023-10-22T23:37:39.367944Z"
    },
    "papermill": {
     "duration": 0.013135,
     "end_time": "2023-10-22T23:37:39.370416",
     "exception": false,
     "start_time": "2023-10-22T23:37:39.357281",
     "status": "completed"
    },
    "tags": []
   },
   "outputs": [],
   "source": [
    "#q_3.hint()\n",
    "#q_3.solution()"
   ]
  },
  {
   "cell_type": "markdown",
   "id": "61cc9e36",
   "metadata": {
    "papermill": {
     "duration": 0.006248,
     "end_time": "2023-10-22T23:37:39.383388",
     "exception": false,
     "start_time": "2023-10-22T23:37:39.377140",
     "status": "completed"
    },
    "tags": []
   },
   "source": [
    "Thinking about the question above, there are a few columns that appear to have geographic data. Look at a few values (with the `list_rows()` command) to see if you can determine their relationship.  Two columns will still be hard to interpret. But it should be obvious how the `location` column relates to `latitude` and `longitude`."
   ]
  },
  {
   "cell_type": "code",
   "execution_count": 12,
   "id": "b575739c",
   "metadata": {
    "execution": {
     "iopub.execute_input": "2023-10-22T23:37:39.397897Z",
     "iopub.status.busy": "2023-10-22T23:37:39.397520Z",
     "iopub.status.idle": "2023-10-22T23:37:39.401627Z",
     "shell.execute_reply": "2023-10-22T23:37:39.400715Z"
    },
    "papermill": {
     "duration": 0.014165,
     "end_time": "2023-10-22T23:37:39.404021",
     "exception": false,
     "start_time": "2023-10-22T23:37:39.389856",
     "status": "completed"
    },
    "tags": []
   },
   "outputs": [],
   "source": [
    "# Scratch space for your code"
   ]
  },
  {
   "cell_type": "markdown",
   "id": "27351f86",
   "metadata": {
    "papermill": {
     "duration": 0.006196,
     "end_time": "2023-10-22T23:37:39.416958",
     "exception": false,
     "start_time": "2023-10-22T23:37:39.410762",
     "status": "completed"
    },
    "tags": []
   },
   "source": [
    "# Keep going\n",
    "\n",
    "You've looked at the schema, but you haven't yet done anything exciting with the data itself. Things get more interesting when you get to the data, so keep going to **[write your first SQL query](https://www.kaggle.com/dansbecker/select-from-where).**"
   ]
  },
  {
   "cell_type": "markdown",
   "id": "c6402d43",
   "metadata": {
    "papermill": {
     "duration": 0.005781,
     "end_time": "2023-10-22T23:37:39.429260",
     "exception": false,
     "start_time": "2023-10-22T23:37:39.423479",
     "status": "completed"
    },
    "tags": []
   },
   "source": [
    "---\n",
    "\n",
    "\n",
    "\n",
    "\n",
    "*Have questions or comments? Visit the [course discussion forum](https://www.kaggle.com/learn/intro-to-sql/discussion) to chat with other learners.*"
   ]
  }
 ],
 "metadata": {
  "kernelspec": {
   "display_name": "Python 3",
   "language": "python",
   "name": "python3"
  },
  "language_info": {
   "codemirror_mode": {
    "name": "ipython",
    "version": 3
   },
   "file_extension": ".py",
   "mimetype": "text/x-python",
   "name": "python",
   "nbconvert_exporter": "python",
   "pygments_lexer": "ipython3",
   "version": "3.10.12"
  },
  "papermill": {
   "default_parameters": {},
   "duration": 9.93154,
   "end_time": "2023-10-22T23:37:40.155465",
   "environment_variables": {},
   "exception": null,
   "input_path": "__notebook__.ipynb",
   "output_path": "__notebook__.ipynb",
   "parameters": {},
   "start_time": "2023-10-22T23:37:30.223925",
   "version": "2.4.0"
  }
 },
 "nbformat": 4,
 "nbformat_minor": 5
}
